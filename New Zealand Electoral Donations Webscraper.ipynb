{
 "cells": [
  {
   "cell_type": "code",
   "execution_count": 3,
   "id": "5ccee1f9",
   "metadata": {},
   "outputs": [],
   "source": [
    "import requests\n",
    "from bs4 import BeautifulSoup\n",
    "import csv"
   ]
  },
  {
   "cell_type": "code",
   "execution_count": 4,
   "id": "cb756fe7",
   "metadata": {},
   "outputs": [],
   "source": [
    "# Make a request to the appropriate path with table for party loans\n",
    "url = \"https://elections.nz/democracy-in-nz/political-parties-in-new-zealand/party-loans-exceeding-30000/\"\n",
    "response = requests.get(url)"
   ]
  },
  {
   "cell_type": "code",
   "execution_count": 5,
   "id": "762155f4",
   "metadata": {},
   "outputs": [],
   "source": [
    "# Parses HTML content using BeautifulSoup\n",
    "soup = BeautifulSoup(response.content, \"html.parser\")"
   ]
  },
  {
   "cell_type": "code",
   "execution_count": 6,
   "id": "962b6fa4",
   "metadata": {},
   "outputs": [],
   "source": [
    "# Find the table element using its ID & Extract the table headers\n",
    "table = soup.find(\"table\", id=\"loans-table\")\n",
    "headers = []\n",
    "if table:\n",
    "    headers = [th.text for th in table.find_all(\"th\")]\n"
   ]
  },
  {
   "cell_type": "code",
   "execution_count": 7,
   "id": "0ab8524e",
   "metadata": {},
   "outputs": [],
   "source": [
    "# Extracts the table rows\n",
    "rows = []\n",
    "if table:\n",
    "    for tr in table.find_all(\"tr\"):\n",
    "        # Skip the header row\n",
    "        if not tr.find_all(\"th\"):\n",
    "            # Extract the cells for each row\n",
    "            cells = [td.text for td in tr.find_all(\"td\")]\n",
    "            rows.append(cells)"
   ]
  },
  {
   "cell_type": "code",
   "execution_count": 8,
   "id": "d5312698",
   "metadata": {},
   "outputs": [],
   "source": [
    "with open(\"party_loans.csv\", \"w\", newline=\"\") as csvfile:\n",
    "    writer = csv.writer(csvfile)\n",
    "    writer.writerow(headers)\n",
    "    writer.writerows(rows)"
   ]
  },
  {
   "cell_type": "code",
   "execution_count": null,
   "id": "5f39fe34",
   "metadata": {},
   "outputs": [],
   "source": []
  }
 ],
 "metadata": {
  "kernelspec": {
   "display_name": "Python 3 (ipykernel)",
   "language": "python",
   "name": "python3"
  },
  "language_info": {
   "codemirror_mode": {
    "name": "ipython",
    "version": 3
   },
   "file_extension": ".py",
   "mimetype": "text/x-python",
   "name": "python",
   "nbconvert_exporter": "python",
   "pygments_lexer": "ipython3",
   "version": "3.9.12"
  }
 },
 "nbformat": 4,
 "nbformat_minor": 5
}
